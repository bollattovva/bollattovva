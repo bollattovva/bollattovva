{
 "cells": [
  {
   "cell_type": "markdown",
   "metadata": {
    "collapsed": false
   },
   "source": [
    "Analyzing Data that we fount by ourselves. Data is about \"Kazakstani people that have deposit, or don't\"."
   ]
  },
  {
   "cell_type": "code",
   "execution_count": 79,
   "metadata": {
    "collapsed": false
   },
   "outputs": [
   ],
   "source": [
    "import pandas as pd"
   ]
  },
  {
   "cell_type": "code",
   "execution_count": 80,
   "metadata": {
    "collapsed": false
   },
   "outputs": [
   ],
   "source": [
    "deposit_data = pd.read_csv(\"deposit.csv\", sep=\",\")"
   ]
  },
  {
   "cell_type": "code",
   "execution_count": 81,
   "metadata": {
    "collapsed": false
   },
   "outputs": [
    {
     "data": {
      "text/html": [
       "<div>\n",
       "<style scoped>\n",
       "    .dataframe tbody tr th:only-of-type {\n",
       "        vertical-align: middle;\n",
       "    }\n",
       "\n",
       "    .dataframe tbody tr th {\n",
       "        vertical-align: top;\n",
       "    }\n",
       "\n",
       "    .dataframe thead th {\n",
       "        text-align: right;\n",
       "    }\n",
       "</style>\n",
       "<table border=\"1\" class=\"dataframe\">\n",
       "  <thead>\n",
       "    <tr style=\"text-align: right;\">\n",
       "      <th></th>\n",
       "      <th>age</th>\n",
       "      <th>marital</th>\n",
       "      <th>education</th>\n",
       "      <th>work</th>\n",
       "      <th>job</th>\n",
       "      <th>house/rent</th>\n",
       "      <th>dep</th>\n",
       "      <th>loane</th>\n",
       "      <th>success</th>\n",
       "      <th>loann</th>\n",
       "      <th>Unnamed: 10</th>\n",
       "      <th>Unnamed: 11</th>\n",
       "      <th>Unnamed: 12</th>\n",
       "    </tr>\n",
       "  </thead>\n",
       "  <tbody>\n",
       "    <tr>\n",
       "      <th>0</th>\n",
       "      <td>21</td>\n",
       "      <td>Свободен(а) / single</td>\n",
       "      <td>В университете / In university</td>\n",
       "      <td>Работаю / I do</td>\n",
       "      <td>Programmer</td>\n",
       "      <td>Снимаю / I'm renting</td>\n",
       "      <td>Да / Yes</td>\n",
       "      <td>Нет / No</td>\n",
       "      <td>Не брал / Never had one</td>\n",
       "      <td>Нет / No</td>\n",
       "      <td>NaN</td>\n",
       "      <td>NaN</td>\n",
       "      <td>NaN</td>\n",
       "    </tr>\n",
       "    <tr>\n",
       "      <th>1</th>\n",
       "      <td>41</td>\n",
       "      <td>Свободен(а) / single</td>\n",
       "      <td>Не учусь / Not studing</td>\n",
       "      <td>Работаю / I do</td>\n",
       "      <td>Руководитель маркетинга</td>\n",
       "      <td>Есть / I have my own</td>\n",
       "      <td>Да / Yes</td>\n",
       "      <td>Да / Yes</td>\n",
       "      <td>Да / Yes</td>\n",
       "      <td>Есть / Yes</td>\n",
       "      <td>NaN</td>\n",
       "      <td>NaN</td>\n",
       "      <td>NaN</td>\n",
       "    </tr>\n",
       "    <tr>\n",
       "      <th>2</th>\n",
       "      <td>29</td>\n",
       "      <td>Свободен(а) / single</td>\n",
       "      <td>Не учусь / Not studing</td>\n",
       "      <td>Работаю / I do</td>\n",
       "      <td>Массажистка</td>\n",
       "      <td>Есть / I have my own</td>\n",
       "      <td>Нет / No</td>\n",
       "      <td>Нет / No</td>\n",
       "      <td>Не брал / Never had one</td>\n",
       "      <td>Нет / No</td>\n",
       "      <td>NaN</td>\n",
       "      <td>NaN</td>\n",
       "      <td>NaN</td>\n",
       "    </tr>\n",
       "    <tr>\n",
       "      <th>3</th>\n",
       "      <td>19</td>\n",
       "      <td>Женат/Замужем / Married</td>\n",
       "      <td>Не учусь / Not studing</td>\n",
       "      <td>Работаю / I do</td>\n",
       "      <td>Бариста</td>\n",
       "      <td>Снимаю / I'm renting</td>\n",
       "      <td>Нет / No</td>\n",
       "      <td>Да / Yes</td>\n",
       "      <td>Да / Yes</td>\n",
       "      <td>Есть / Yes</td>\n",
       "      <td>NaN</td>\n",
       "      <td>NaN</td>\n",
       "      <td>NaN</td>\n",
       "    </tr>\n",
       "    <tr>\n",
       "      <th>4</th>\n",
       "      <td>25</td>\n",
       "      <td>Свободен(а) / single</td>\n",
       "      <td>Не учусь / Not studing</td>\n",
       "      <td>Работаю / I do</td>\n",
       "      <td>Работником</td>\n",
       "      <td>Есть / I have my own</td>\n",
       "      <td>Да / Yes</td>\n",
       "      <td>Да / Yes</td>\n",
       "      <td>Да / Yes</td>\n",
       "      <td>Есть / Yes</td>\n",
       "      <td>NaN</td>\n",
       "      <td>NaN</td>\n",
       "      <td>NaN</td>\n",
       "    </tr>\n",
       "    <tr>\n",
       "      <th>...</th>\n",
       "      <td>...</td>\n",
       "      <td>...</td>\n",
       "      <td>...</td>\n",
       "      <td>...</td>\n",
       "      <td>...</td>\n",
       "      <td>...</td>\n",
       "      <td>...</td>\n",
       "      <td>...</td>\n",
       "      <td>...</td>\n",
       "      <td>...</td>\n",
       "      <td>...</td>\n",
       "      <td>...</td>\n",
       "      <td>...</td>\n",
       "    </tr>\n",
       "    <tr>\n",
       "      <th>96</th>\n",
       "      <td>26</td>\n",
       "      <td>Свободен(а) / single</td>\n",
       "      <td>На докторантуре / On PHD</td>\n",
       "      <td>Работаю / I do</td>\n",
       "      <td>Учитель по музыке</td>\n",
       "      <td>Есть / I have my own</td>\n",
       "      <td>Да / Yes</td>\n",
       "      <td>Да / Yes</td>\n",
       "      <td>Да / Yes</td>\n",
       "      <td>Нет / No</td>\n",
       "      <td>NaN</td>\n",
       "      <td>NaN</td>\n",
       "      <td>NaN</td>\n",
       "    </tr>\n",
       "    <tr>\n",
       "      <th>97</th>\n",
       "      <td>55</td>\n",
       "      <td>Женат/Замужем / Married</td>\n",
       "      <td>Не учусь / Not studing</td>\n",
       "      <td>Работаю / I do</td>\n",
       "      <td>слесарь</td>\n",
       "      <td>Есть / I have my own</td>\n",
       "      <td>Да / Yes</td>\n",
       "      <td>Да / Yes</td>\n",
       "      <td>Да / Yes</td>\n",
       "      <td>Есть / Yes</td>\n",
       "      <td>NaN</td>\n",
       "      <td>NaN</td>\n",
       "      <td>NaN</td>\n",
       "    </tr>\n",
       "    <tr>\n",
       "      <th>98</th>\n",
       "      <td>45</td>\n",
       "      <td>Женат/Замужем / Married</td>\n",
       "      <td>Не учусь / Not studing</td>\n",
       "      <td>Работаю / I do</td>\n",
       "      <td>Собственный ИП</td>\n",
       "      <td>Есть / I have my own</td>\n",
       "      <td>Да / Yes</td>\n",
       "      <td>Да / Yes</td>\n",
       "      <td>Да / Yes</td>\n",
       "      <td>Нет / No</td>\n",
       "      <td>NaN</td>\n",
       "      <td>NaN</td>\n",
       "      <td>NaN</td>\n",
       "    </tr>\n",
       "    <tr>\n",
       "      <th>99</th>\n",
       "      <td>23</td>\n",
       "      <td>Женат/Замужем / Married</td>\n",
       "      <td>На магистратуре / On Master Degree</td>\n",
       "      <td>Работаю / I do</td>\n",
       "      <td>сетевой маркетинг</td>\n",
       "      <td>Есть / I have my own</td>\n",
       "      <td>Да / Yes</td>\n",
       "      <td>Нет / No</td>\n",
       "      <td>Не брал / Never had one</td>\n",
       "      <td>Нет / No</td>\n",
       "      <td>NaN</td>\n",
       "      <td>NaN</td>\n",
       "      <td>NaN</td>\n",
       "    </tr>\n",
       "    <tr>\n",
       "      <th>100</th>\n",
       "      <td>20</td>\n",
       "      <td>Свободен(а) / single</td>\n",
       "      <td>В университете / In university</td>\n",
       "      <td>Не работаю / I don't</td>\n",
       "      <td>Не работаю</td>\n",
       "      <td>Снимаю / I'm renting</td>\n",
       "      <td>Нет / No</td>\n",
       "      <td>Нет / No</td>\n",
       "      <td>Не брал / Never had one</td>\n",
       "      <td>Нет / No</td>\n",
       "      <td>2/29/2020 0:39:06</td>\n",
       "      <td>Дарига</td>\n",
       "      <td>Высшее</td>\n",
       "    </tr>\n",
       "  </tbody>\n",
       "</table>\n",
       "<p>101 rows × 13 columns</p>\n",
       "</div>"
      ],
      "text/plain": [
       "     age                  marital                           education  \\\n",
       "0     21     Свободен(а) / single      В университете / In university   \n",
       "1     41     Свободен(а) / single              Не учусь / Not studing   \n",
       "2     29     Свободен(а) / single              Не учусь / Not studing   \n",
       "3     19  Женат/Замужем / Married              Не учусь / Not studing   \n",
       "4     25     Свободен(а) / single              Не учусь / Not studing   \n",
       "..   ...                      ...                                 ...   \n",
       "96    26     Свободен(а) / single            На докторантуре / On PHD   \n",
       "97    55  Женат/Замужем / Married              Не учусь / Not studing   \n",
       "98    45  Женат/Замужем / Married              Не учусь / Not studing   \n",
       "99    23  Женат/Замужем / Married  На магистратуре / On Master Degree   \n",
       "100   20     Свободен(а) / single      В университете / In university   \n",
       "\n",
       "                     work                       job            house/rent  \\\n",
       "0          Работаю / I do                Programmer  Снимаю / I'm renting   \n",
       "1          Работаю / I do  Руководитель маркетинга   Есть / I have my own   \n",
       "2          Работаю / I do               Массажистка  Есть / I have my own   \n",
       "3          Работаю / I do                   Бариста  Снимаю / I'm renting   \n",
       "4          Работаю / I do                Работником  Есть / I have my own   \n",
       "..                    ...                       ...                   ...   \n",
       "96         Работаю / I do         Учитель по музыке  Есть / I have my own   \n",
       "97         Работаю / I do                   слесарь  Есть / I have my own   \n",
       "98         Работаю / I do            Собственный ИП  Есть / I have my own   \n",
       "99         Работаю / I do         сетевой маркетинг  Есть / I have my own   \n",
       "100  Не работаю / I don't               Не работаю   Снимаю / I'm renting   \n",
       "\n",
       "          dep     loane                  success       loann  \\\n",
       "0    Да / Yes  Нет / No  Не брал / Never had one    Нет / No   \n",
       "1    Да / Yes  Да / Yes                 Да / Yes  Есть / Yes   \n",
       "2    Нет / No  Нет / No  Не брал / Never had one    Нет / No   \n",
       "3    Нет / No  Да / Yes                 Да / Yes  Есть / Yes   \n",
       "4    Да / Yes  Да / Yes                 Да / Yes  Есть / Yes   \n",
       "..        ...       ...                      ...         ...   \n",
       "96   Да / Yes  Да / Yes                 Да / Yes    Нет / No   \n",
       "97   Да / Yes  Да / Yes                 Да / Yes  Есть / Yes   \n",
       "98   Да / Yes  Да / Yes                 Да / Yes    Нет / No   \n",
       "99   Да / Yes  Нет / No  Не брал / Never had one    Нет / No   \n",
       "100  Нет / No  Нет / No  Не брал / Never had one    Нет / No   \n",
       "\n",
       "           Unnamed: 10 Unnamed: 11 Unnamed: 12  \n",
       "0                  NaN         NaN         NaN  \n",
       "1                  NaN         NaN         NaN  \n",
       "2                  NaN         NaN         NaN  \n",
       "3                  NaN         NaN         NaN  \n",
       "4                  NaN         NaN         NaN  \n",
       "..                 ...         ...         ...  \n",
       "96                 NaN         NaN         NaN  \n",
       "97                 NaN         NaN         NaN  \n",
       "98                 NaN         NaN         NaN  \n",
       "99                 NaN         NaN         NaN  \n",
       "100  2/29/2020 0:39:06      Дарига      Высшее  \n",
       "\n",
       "[101 rows x 13 columns]"
      ]
     },
     "execution_count": 81,
     "metadata": {
     },
     "output_type": "execute_result"
    }
   ],
   "source": [
    "deposit_data"
   ]
  },
  {
   "cell_type": "markdown",
   "metadata": {
    "collapsed": false
   },
   "source": [
    "This table shows us the participants of the survey, that was made in google forms.\n",
    "\"Age\" here means how old is the Participant.\n",
    "\"Marital\" means the status of the participant (whether Single or Married)\n",
    "\"Education\" stands for where the participant is studing, or is he/she studing at all.\n",
    "\"Work\" explains is the participant working or not.\n",
    "\"Job\" title means whom this person is working.\n",
    "\"House/Rent\" stands for is this person is renting the flat/house, or this person has it's own flat/house.\n",
    "\"Dep\" explains is this participnat has deposit or not.\n",
    "\"Loane\" means is this person ever had a loan.\n",
    "\"Success\" stands for is this participant closed his/her loan successfully, if ever had one.\n",
    "and the last, \"Loann\" explains is this participant has loan nowadays."
   ]
  },
  {
   "cell_type": "code",
   "execution_count": 82,
   "metadata": {
    "collapsed": false
   },
   "outputs": [
    {
     "data": {
      "text/html": [
       "<div>\n",
       "<style scoped>\n",
       "    .dataframe tbody tr th:only-of-type {\n",
       "        vertical-align: middle;\n",
       "    }\n",
       "\n",
       "    .dataframe tbody tr th {\n",
       "        vertical-align: top;\n",
       "    }\n",
       "\n",
       "    .dataframe thead th {\n",
       "        text-align: right;\n",
       "    }\n",
       "</style>\n",
       "<table border=\"1\" class=\"dataframe\">\n",
       "  <thead>\n",
       "    <tr style=\"text-align: right;\">\n",
       "      <th></th>\n",
       "      <th>age</th>\n",
       "      <th>marital</th>\n",
       "      <th>education</th>\n",
       "      <th>work</th>\n",
       "      <th>job</th>\n",
       "      <th>house/rent</th>\n",
       "      <th>dep</th>\n",
       "      <th>loane</th>\n",
       "      <th>success</th>\n",
       "      <th>loann</th>\n",
       "      <th>Unnamed: 10</th>\n",
       "      <th>Unnamed: 11</th>\n",
       "      <th>Unnamed: 12</th>\n",
       "    </tr>\n",
       "  </thead>\n",
       "  <tbody>\n",
       "    <tr>\n",
       "      <th>0</th>\n",
       "      <td>21</td>\n",
       "      <td>Свободен(а) / single</td>\n",
       "      <td>В университете / In university</td>\n",
       "      <td>Работаю / I do</td>\n",
       "      <td>Programmer</td>\n",
       "      <td>Снимаю / I'm renting</td>\n",
       "      <td>Да / Yes</td>\n",
       "      <td>Нет / No</td>\n",
       "      <td>Не брал / Never had one</td>\n",
       "      <td>Нет / No</td>\n",
       "      <td>NaN</td>\n",
       "      <td>NaN</td>\n",
       "      <td>NaN</td>\n",
       "    </tr>\n",
       "    <tr>\n",
       "      <th>1</th>\n",
       "      <td>41</td>\n",
       "      <td>Свободен(а) / single</td>\n",
       "      <td>Не учусь / Not studing</td>\n",
       "      <td>Работаю / I do</td>\n",
       "      <td>Руководитель маркетинга</td>\n",
       "      <td>Есть / I have my own</td>\n",
       "      <td>Да / Yes</td>\n",
       "      <td>Да / Yes</td>\n",
       "      <td>Да / Yes</td>\n",
       "      <td>Есть / Yes</td>\n",
       "      <td>NaN</td>\n",
       "      <td>NaN</td>\n",
       "      <td>NaN</td>\n",
       "    </tr>\n",
       "    <tr>\n",
       "      <th>2</th>\n",
       "      <td>29</td>\n",
       "      <td>Свободен(а) / single</td>\n",
       "      <td>Не учусь / Not studing</td>\n",
       "      <td>Работаю / I do</td>\n",
       "      <td>Массажистка</td>\n",
       "      <td>Есть / I have my own</td>\n",
       "      <td>Нет / No</td>\n",
       "      <td>Нет / No</td>\n",
       "      <td>Не брал / Never had one</td>\n",
       "      <td>Нет / No</td>\n",
       "      <td>NaN</td>\n",
       "      <td>NaN</td>\n",
       "      <td>NaN</td>\n",
       "    </tr>\n",
       "  </tbody>\n",
       "</table>\n",
       "</div>"
      ],
      "text/plain": [
       "   age               marital                       education            work  \\\n",
       "0   21  Свободен(а) / single  В университете / In university  Работаю / I do   \n",
       "1   41  Свободен(а) / single          Не учусь / Not studing  Работаю / I do   \n",
       "2   29  Свободен(а) / single          Не учусь / Not studing  Работаю / I do   \n",
       "\n",
       "                        job            house/rent       dep     loane  \\\n",
       "0                Programmer  Снимаю / I'm renting  Да / Yes  Нет / No   \n",
       "1  Руководитель маркетинга   Есть / I have my own  Да / Yes  Да / Yes   \n",
       "2               Массажистка  Есть / I have my own  Нет / No  Нет / No   \n",
       "\n",
       "                   success       loann Unnamed: 10 Unnamed: 11 Unnamed: 12  \n",
       "0  Не брал / Never had one    Нет / No         NaN         NaN         NaN  \n",
       "1                 Да / Yes  Есть / Yes         NaN         NaN         NaN  \n",
       "2  Не брал / Never had one    Нет / No         NaN         NaN         NaN  "
      ]
     },
     "execution_count": 82,
     "metadata": {
     },
     "output_type": "execute_result"
    }
   ],
   "source": [
    "deposit_data.head(3)"
   ]
  },
  {
   "cell_type": "markdown",
   "metadata": {
    "collapsed": false
   },
   "source": [
    "Here, this table shows us firs 3 rows of the same table, mentioned previously. By using head() function, we can look at only first 3 or whatever number of rows that we need or want to look at."
   ]
  },
  {
   "cell_type": "code",
   "execution_count": 83,
   "metadata": {
    "collapsed": false
   },
   "outputs": [
    {
     "data": {
      "text/html": [
       "<div>\n",
       "<style scoped>\n",
       "    .dataframe tbody tr th:only-of-type {\n",
       "        vertical-align: middle;\n",
       "    }\n",
       "\n",
       "    .dataframe tbody tr th {\n",
       "        vertical-align: top;\n",
       "    }\n",
       "\n",
       "    .dataframe thead th {\n",
       "        text-align: right;\n",
       "    }\n",
       "</style>\n",
       "<table border=\"1\" class=\"dataframe\">\n",
       "  <thead>\n",
       "    <tr style=\"text-align: right;\">\n",
       "      <th></th>\n",
       "      <th>age</th>\n",
       "      <th>marital</th>\n",
       "      <th>education</th>\n",
       "      <th>work</th>\n",
       "      <th>job</th>\n",
       "      <th>house/rent</th>\n",
       "      <th>dep</th>\n",
       "      <th>loane</th>\n",
       "      <th>success</th>\n",
       "      <th>loann</th>\n",
       "      <th>Unnamed: 10</th>\n",
       "      <th>Unnamed: 11</th>\n",
       "      <th>Unnamed: 12</th>\n",
       "    </tr>\n",
       "  </thead>\n",
       "  <tbody>\n",
       "    <tr>\n",
       "      <th>97</th>\n",
       "      <td>55</td>\n",
       "      <td>Женат/Замужем / Married</td>\n",
       "      <td>Не учусь / Not studing</td>\n",
       "      <td>Работаю / I do</td>\n",
       "      <td>слесарь</td>\n",
       "      <td>Есть / I have my own</td>\n",
       "      <td>Да / Yes</td>\n",
       "      <td>Да / Yes</td>\n",
       "      <td>Да / Yes</td>\n",
       "      <td>Есть / Yes</td>\n",
       "      <td>NaN</td>\n",
       "      <td>NaN</td>\n",
       "      <td>NaN</td>\n",
       "    </tr>\n",
       "    <tr>\n",
       "      <th>98</th>\n",
       "      <td>45</td>\n",
       "      <td>Женат/Замужем / Married</td>\n",
       "      <td>Не учусь / Not studing</td>\n",
       "      <td>Работаю / I do</td>\n",
       "      <td>Собственный ИП</td>\n",
       "      <td>Есть / I have my own</td>\n",
       "      <td>Да / Yes</td>\n",
       "      <td>Да / Yes</td>\n",
       "      <td>Да / Yes</td>\n",
       "      <td>Нет / No</td>\n",
       "      <td>NaN</td>\n",
       "      <td>NaN</td>\n",
       "      <td>NaN</td>\n",
       "    </tr>\n",
       "    <tr>\n",
       "      <th>99</th>\n",
       "      <td>23</td>\n",
       "      <td>Женат/Замужем / Married</td>\n",
       "      <td>На магистратуре / On Master Degree</td>\n",
       "      <td>Работаю / I do</td>\n",
       "      <td>сетевой маркетинг</td>\n",
       "      <td>Есть / I have my own</td>\n",
       "      <td>Да / Yes</td>\n",
       "      <td>Нет / No</td>\n",
       "      <td>Не брал / Never had one</td>\n",
       "      <td>Нет / No</td>\n",
       "      <td>NaN</td>\n",
       "      <td>NaN</td>\n",
       "      <td>NaN</td>\n",
       "    </tr>\n",
       "    <tr>\n",
       "      <th>100</th>\n",
       "      <td>20</td>\n",
       "      <td>Свободен(а) / single</td>\n",
       "      <td>В университете / In university</td>\n",
       "      <td>Не работаю / I don't</td>\n",
       "      <td>Не работаю</td>\n",
       "      <td>Снимаю / I'm renting</td>\n",
       "      <td>Нет / No</td>\n",
       "      <td>Нет / No</td>\n",
       "      <td>Не брал / Never had one</td>\n",
       "      <td>Нет / No</td>\n",
       "      <td>2/29/2020 0:39:06</td>\n",
       "      <td>Дарига</td>\n",
       "      <td>Высшее</td>\n",
       "    </tr>\n",
       "  </tbody>\n",
       "</table>\n",
       "</div>"
      ],
      "text/plain": [
       "     age                  marital                           education  \\\n",
       "97    55  Женат/Замужем / Married              Не учусь / Not studing   \n",
       "98    45  Женат/Замужем / Married              Не учусь / Not studing   \n",
       "99    23  Женат/Замужем / Married  На магистратуре / On Master Degree   \n",
       "100   20     Свободен(а) / single      В университете / In university   \n",
       "\n",
       "                     work                job            house/rent       dep  \\\n",
       "97         Работаю / I do            слесарь  Есть / I have my own  Да / Yes   \n",
       "98         Работаю / I do     Собственный ИП  Есть / I have my own  Да / Yes   \n",
       "99         Работаю / I do  сетевой маркетинг  Есть / I have my own  Да / Yes   \n",
       "100  Не работаю / I don't        Не работаю   Снимаю / I'm renting  Нет / No   \n",
       "\n",
       "        loane                  success       loann        Unnamed: 10  \\\n",
       "97   Да / Yes                 Да / Yes  Есть / Yes                NaN   \n",
       "98   Да / Yes                 Да / Yes    Нет / No                NaN   \n",
       "99   Нет / No  Не брал / Never had one    Нет / No                NaN   \n",
       "100  Нет / No  Не брал / Never had one    Нет / No  2/29/2020 0:39:06   \n",
       "\n",
       "    Unnamed: 11 Unnamed: 12  \n",
       "97          NaN         NaN  \n",
       "98          NaN         NaN  \n",
       "99          NaN         NaN  \n",
       "100      Дарига      Высшее  "
      ]
     },
     "execution_count": 83,
     "metadata": {
     },
     "output_type": "execute_result"
    }
   ],
   "source": [
    "deposit_data.tail(4)"
   ]
  },
  {
   "cell_type": "markdown",
   "metadata": {
    "collapsed": false
   },
   "source": [
    "tail() function, visa versa, helps us to look at the last rows that we need. "
   ]
  },
  {
   "cell_type": "code",
   "execution_count": 84,
   "metadata": {
    "collapsed": false
   },
   "outputs": [
    {
     "name": "stdout",
     "output_type": "stream",
     "text": [
      "<class 'pandas.core.frame.DataFrame'>\n",
      "RangeIndex: 101 entries, 0 to 100\n",
      "Data columns (total 13 columns):\n",
      " #   Column       Non-Null Count  Dtype \n",
      "---  ------       --------------  ----- \n",
      " 0   age          101 non-null    int64 \n",
      " 1   marital      100 non-null    object\n",
      " 2   education    101 non-null    object\n",
      " 3   work         101 non-null    object\n",
      " 4   job          101 non-null    object\n",
      " 5   house/rent   101 non-null    object\n",
      " 6   dep          101 non-null    object\n",
      " 7    loane       101 non-null    object\n",
      " 8   success      101 non-null    object\n",
      " 9   loann        101 non-null    object\n",
      " 10  Unnamed: 10  1 non-null      object\n",
      " 11  Unnamed: 11  1 non-null      object\n",
      " 12  Unnamed: 12  1 non-null      object\n",
      "dtypes: int64(1), object(12)\n",
      "memory usage: 10.4+ KB\n"
     ]
    }
   ],
   "source": [
    "deposit_data.info()"
   ]
  },
  {
   "cell_type": "markdown",
   "metadata": {
    "collapsed": false
   },
   "source": [
    "Here, we see that function info() helps us to look at the general information about this table. So we have 100 participant's data; we have total 10 colums from excel doc; 9 objective data, and only 1 numerical data type."
   ]
  },
  {
   "cell_type": "code",
   "execution_count": 85,
   "metadata": {
    "collapsed": false
   },
   "outputs": [
   ],
   "source": [
    "#correlation"
   ]
  },
  {
   "cell_type": "code",
   "execution_count": 86,
   "metadata": {
    "collapsed": false
   },
   "outputs": [
    {
     "data": {
      "text/html": [
       "<div>\n",
       "<style scoped>\n",
       "    .dataframe tbody tr th:only-of-type {\n",
       "        vertical-align: middle;\n",
       "    }\n",
       "\n",
       "    .dataframe tbody tr th {\n",
       "        vertical-align: top;\n",
       "    }\n",
       "\n",
       "    .dataframe thead th {\n",
       "        text-align: right;\n",
       "    }\n",
       "</style>\n",
       "<table border=\"1\" class=\"dataframe\">\n",
       "  <thead>\n",
       "    <tr style=\"text-align: right;\">\n",
       "      <th></th>\n",
       "      <th>age</th>\n",
       "    </tr>\n",
       "  </thead>\n",
       "  <tbody>\n",
       "    <tr>\n",
       "      <th>count</th>\n",
       "      <td>101.000000</td>\n",
       "    </tr>\n",
       "    <tr>\n",
       "      <th>mean</th>\n",
       "      <td>26.574257</td>\n",
       "    </tr>\n",
       "    <tr>\n",
       "      <th>std</th>\n",
       "      <td>8.031621</td>\n",
       "    </tr>\n",
       "    <tr>\n",
       "      <th>min</th>\n",
       "      <td>17.000000</td>\n",
       "    </tr>\n",
       "    <tr>\n",
       "      <th>25%</th>\n",
       "      <td>20.000000</td>\n",
       "    </tr>\n",
       "    <tr>\n",
       "      <th>50%</th>\n",
       "      <td>24.000000</td>\n",
       "    </tr>\n",
       "    <tr>\n",
       "      <th>75%</th>\n",
       "      <td>30.000000</td>\n",
       "    </tr>\n",
       "    <tr>\n",
       "      <th>max</th>\n",
       "      <td>55.000000</td>\n",
       "    </tr>\n",
       "  </tbody>\n",
       "</table>\n",
       "</div>"
      ],
      "text/plain": [
       "              age\n",
       "count  101.000000\n",
       "mean    26.574257\n",
       "std      8.031621\n",
       "min     17.000000\n",
       "25%     20.000000\n",
       "50%     24.000000\n",
       "75%     30.000000\n",
       "max     55.000000"
      ]
     },
     "execution_count": 86,
     "metadata": {
     },
     "output_type": "execute_result"
    }
   ],
   "source": [
    "deposit_data.describe()"
   ]
  },
  {
   "cell_type": "markdown",
   "metadata": {
    "collapsed": false
   },
   "source": [
    "As it was mentioned before, there is only one numerical data, which is \"age\" of the participants.\n",
    "The average year of all 100 participants is \"26\".\n",
    "The youngest participant's age is 17. (min)\n",
    "The oldest participant is 55 years old.\n",
    "Correlation here could not be identified, as the correcaltion means the relation among numerical data, among which we have only one, which is \"age\". It is insufficent amount of data to identify correlation. "
   ]
  },
  {
   "cell_type": "markdown",
   "metadata": {
    "collapsed": false
   },
   "source": [
    "Now, let's look at the correlation among non-numeric data, and among all data that we have.\n",
    "To look at this correlation, we are going to use new function \"SEABORN\".\n",
    "\"Seaborn\" is a Python data visualization library based on matplotlib. It provides a high-level interface for drawing attractive and informative statistical graphics.\n",
    "Within seaborn, we are going to use \"barplot\". A \"bar plot\" represents an estimate of central tendency for a numeric variable with the height of each rectangle and provides some indication of the uncertainty around that estimate using error bars."
   ]
  },
  {
   "cell_type": "code",
   "execution_count": 87,
   "metadata": {
    "collapsed": false
   },
   "outputs": [
   ],
   "source": [
    "import seaborn as sns"
   ]
  },
  {
   "cell_type": "code",
   "execution_count": 88,
   "metadata": {
    "collapsed": false
   },
   "outputs": [
    {
     "data": {
      "image/png": "[encoded data removed]",
      "text/plain": [
       "<Figure size 432x288 with 1 Axes>"
      ]
     },
     "execution_count": 88,
     "metadata": {
      "image/png": {
       "height": 261,
       "width": 505
      }
     },
     "output_type": "execute_result"
    }
   ],
   "source": [
    "ax= sns.barplot(x=\"age\", y=\"marital\", hue=\"dep\", data=deposit_data)"
   ]
  },
  {
   "cell_type": "markdown",
   "metadata": {
    "collapsed": false
   },
   "source": [
    "Here, from this table we can see that \"Single\" people mostly have deposit, same as \"Married\". And mostly, \"Single\" are those, who are 20-25 years old. "
   ]
  },
  {
   "cell_type": "code",
   "execution_count": 89,
   "metadata": {
    "collapsed": false
   },
   "outputs": [
    {
     "data": {
      "image/png": "[encoded data removed]",
      "text/plain": [
       "<Figure size 432x288 with 1 Axes>"
      ]
     },
     "execution_count": 89,
     "metadata": {
      "image/png": {
       "height": 261,
       "width": 562
      }
     },
     "output_type": "execute_result"
    }
   ],
   "source": [
    "ax= sns.barplot(x=\"age\", y=\"education\", hue=\"dep\", data=deposit_data)"
   ]
  },
  {
   "cell_type": "markdown",
   "metadata": {
    "collapsed": false
   },
   "source": [
    "As it was mentioned before, \"education\" stands for where this perdon is studing, or is he/she studing in general.\n",
    "Those who are studying PhD., everyone has a deposit. Those who are \"Not studing\", mostly do have a deposit in a bank, and in comparison with others, those who are not studing also do not have a deposit."
   ]
  },
  {
   "cell_type": "code",
   "execution_count": 90,
   "metadata": {
    "collapsed": false
   },
   "outputs": [
    {
     "data": {
      "image/png": "[encoded data removed]",
      "text/plain": [
       "<Figure size 432x288 with 1 Axes>"
      ]
     },
     "execution_count": 90,
     "metadata": {
      "image/png": {
       "height": 261,
       "width": 478
      }
     },
     "output_type": "execute_result"
    }
   ],
   "source": [
    "ax= sns.barplot(x=\"age\", y=\"house/rent\", hue=\"dep\", data=deposit_data)"
   ]
  },
  {
   "cell_type": "markdown",
   "metadata": {
    "collapsed": false
   },
   "source": [
    "Those who are \"renting\" house/flat divided by 50/50 that have and do not have deposit in a bank. But among those who has their own place to live, mostly have a deposit in a bank. "
   ]
  },
  {
   "cell_type": "code",
   "execution_count": 91,
   "metadata": {
    "collapsed": false
   },
   "outputs": [
    {
     "data": {
      "image/png": "[encoded data removed]",
      "text/plain": [
       "<Figure size 432x288 with 1 Axes>"
      ]
     },
     "execution_count": 91,
     "metadata": {
      "image/png": {
       "height": 261,
       "width": 473
      }
     },
     "output_type": "execute_result"
    }
   ],
   "source": [
    "ax= sns.barplot(x=\"age\", y=\"work\", hue=\"dep\", data=deposit_data)"
   ]
  },
  {
   "cell_type": "markdown",
   "metadata": {
    "collapsed": false
   },
   "source": [
    "In comparison with those who are working, not working people mostly do not have deposit. And it is not hard to understand why."
   ]
  },
  {
   "cell_type": "code",
   "execution_count": 92,
   "metadata": {
    "collapsed": false
   },
   "outputs": [
    {
     "data": {
      "image/png": "[encoded data removed]",
      "text/plain": [
       "<Figure size 432x288 with 1 Axes>"
      ]
     },
     "execution_count": 92,
     "metadata": {
      "image/png": {
       "height": 261,
       "width": 476
      }
     },
     "output_type": "execute_result"
    }
   ],
   "source": [
    "ax= sns.barplot(x=\"age\", y=\"house/rent\", hue=\"loann\", data=deposit_data)"
   ]
  },
  {
   "cell_type": "markdown",
   "metadata": {
    "collapsed": false
   },
   "source": [
    "\"Loann\" stands for those, who have a loan from a bank nowadays. And those who has a loan are mostly those, who have their own place to live, they are not renting a flat/house."
   ]
  },
  {
   "cell_type": "code",
   "execution_count": 56,
   "metadata": {
    "collapsed": false
   },
   "outputs": [
    {
     "data": {
      "image/png": "[encoded data removed]",
      "text/plain": [
       "<Figure size 432x288 with 1 Axes>"
      ]
     },
     "execution_count": 56,
     "metadata": {
      "image/png": {
       "height": 261,
       "width": 473
      }
     },
     "output_type": "execute_result"
    }
   ],
   "source": [
    "ax= sns.barplot(x=\"age\", y=\"work\", hue=\"loann\", data=deposit_data)"
   ]
  },
  {
   "cell_type": "markdown",
   "metadata": {
    "collapsed": false
   },
   "source": [
    "Those who do not have a job, and not working, have a loan nowadays, more than those who are working. But in the both case, both of the type of participants have loan in a bank."
   ]
  },
  {
   "cell_type": "code",
   "execution_count": 95,
   "metadata": {
    "collapsed": false
   },
   "outputs": [
    {
     "data": {
      "image/png": "[encoded data removed]",
      "text/plain": [
       "<Figure size 432x288 with 1 Axes>"
      ]
     },
     "execution_count": 95,
     "metadata": {
      "image/png": {
       "height": 261,
       "width": 505
      }
     },
     "output_type": "execute_result"
    }
   ],
   "source": [
    "ax= sns.barplot(x=\"age\", y=\"marital\", hue=\"loann\", data=deposit_data)"
   ]
  },
  {
   "cell_type": "markdown",
   "metadata": {
    "collapsed": false
   },
   "source": [
    "Married people mostly have a loan, rather than those who are single."
   ]
  },
  {
   "cell_type": "markdown",
   "metadata": {
    "collapsed": false
   },
   "source": [
    "At the end, we can make a conclusion of who are mostly have, and who don't have a deposit. Working, renting and married people mostly do not have a deposit in a bank, as a marketing specialist we can use this tools of programming to target our audience, identify who needs mostly what, and in which way we can communicate a message to our audience. So the usage of SEABORN helps specialists to esify the job of targeting. As a marketer, now I would communicate a message of opening a deposit in a bank to those people whom we identified as \"mostly do not have deposit in a bank\"."
   ]
  },
  {
   "cell_type": "code",
   "execution_count": 0,
   "metadata": {
    "collapsed": false
   },
   "outputs": [
   ],
   "source": [
   ]
  }
 ],
 "metadata": {
  "kernelspec": {
   "display_name": "Python 3 (system-wide)",
   "language": "python",
   "metadata": {
    "cocalc": {
     "description": "Python 3 programming language",
     "priority": 100,
     "url": "https://www.python.org/"
    }
   },
   "name": "python3"
  },
  "language_info": {
   "codemirror_mode": {
    "name": "ipython",
    "version": 3
   },
   "file_extension": ".py",
   "mimetype": "text/x-python",
   "name": "python",
   "nbconvert_exporter": "python",
   "pygments_lexer": "ipython3",
   "version": "3.6.9"
  }
 },
 "nbformat": 4,
 "nbformat_minor": 0
}